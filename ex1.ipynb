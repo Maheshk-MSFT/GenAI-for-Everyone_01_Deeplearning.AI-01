import os 
import base64 
from openai import AzureOpenAI 
from azure.identity import DefaultAzureCredential, get_bearer_token_provider 

os.environ["OPENAI_API_KEY"] = "key"

endpoint = os.getenv("ENDPOINT_URL", "https://mikkygenai.openai.azure.com/") 
deployment = os.getenv("DEPLOYMENT_NAME", "gpt-35-turbo") 

client = AzureOpenAI( azure_endpoint=endpoint, 
                        azure_deployment=deployment, api_key=os.getenv("OPENAI_API_KEY", "key"),
                     api_version="2025-01-01-preview", ) 


chat_prompt = [] # Include speech result if speech is enabled 

# prompt = '''
#     Classify the following review 
#     as having either a positive or
#     negative sentiment:

#     The banana pudding was really tasty!
# '''

# Provide at least one user message
messages = [
    {"role": "user", "content": "Please classify the sentiment of the following review: The banana pudding was really tasty!"}
]

completion = client.chat.completions.create(
    model=deployment,
    messages=messages,
    max_tokens=800,
    temperature=0.7,
    top_p=0.95,
    frequency_penalty=0,
    presence_penalty=0,
    stop=None,
    stream=False
)

print(completion.choices[0].message.content)
