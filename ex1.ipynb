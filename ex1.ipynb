{
 "cells": [
  {
   "cell_type": "code",
   "metadata": {},
   "source": [
    "import os\n",
    "import base64\n",
    "from openai import AzureOpenAI\n",
    "from azure.identity import DefaultAzureCredential, get_bearer_token_provider\n",
    "\n",
    "os.environ[\"OPENAI_API_KEY\"] = \"key\"\n",
    "\n",
    "endpoint = os.getenv(\"ENDPOINT_URL\", \"https://mikkygenai.openai.azure.com/\")\n",
    "deployment = os.getenv(\"DEPLOYMENT_NAME\", \"gpt-35-turbo\")\n",
    "\n",
    "client = AzureOpenAI(\n",
    "    azure_endpoint=endpoint,\n",
    "    azure_deployment=deployment,\n",
    "    api_key=os.getenv(\"OPENAI_API_KEY\", \"key\"),\n",
    "    api_version=\"2025-01-01-preview\",\n",
    ")\n",
    "\n",
    "chat_prompt = []  # Include speech result if speech is enabled\n",
    "\n",
    "# prompt = '''\n",
    "#     Classify the following review \n",
    "#     as having either a positive or\n",
    "#     negative sentiment:\n",
    "#\n",
    "#     The banana pudding was really tasty!\n",
    "# '''\n",
    "\n",
    "# Provide at least one user message\n",
    "messages = [\n",
    "    {\"role\": \"user\", \"content\": \"Please classify the sentiment of the following review: The banana pudding was really tasty!\"}\n",
    "]\n",
    "\n",
    "completion = client.chat.completions.create(\n",
    "    model=deployment,\n",
    "    messages=messages,\n",
    "    max_tokens=800,\n",
    "    temperature=0.7,\n",
    "    top_p=0.95,\n",
    "    frequency_penalty=0,\n",
    "    presence_penalty=0,\n",
    "    stop=None,\n",
    "    stream=False\n",
    ")\n",
    "\n",
    "print(completion.choices[0].message.content)\n"
   ],
   "execution_count": null,
   "outputs": []
  }
 ],
 "metadata": {
  "kernelspec": {
   "display_name": "Python 3",
   "language": "python",
   "name": "python3"
  },
  "language_info": {
   "name": "python",
   "version": "3.x"
  }
 },
 "nbformat": 4,
 "nbformat_minor": 5
}
